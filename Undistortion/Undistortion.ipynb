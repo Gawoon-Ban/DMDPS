{
 "cells": [
  {
   "cell_type": "code",
   "execution_count": 34,
   "id": "07052f07-9185-445e-b9a1-fee776bb1a00",
   "metadata": {},
   "outputs": [
    {
     "name": "stdout",
     "output_type": "stream",
     "text": [
      "True\n"
     ]
    }
   ],
   "source": [
    "import numpy as np\n",
    "import cv2\n",
    "\n",
    "criteria = (cv2.TERM_CRITERIA_EPS + cv2.TERM_CRITERIA_MAX_ITER, 30, 0.001)\n",
    "wc = 4  ## 체스 보드 가로 패턴 개수 - 1\n",
    "hc = 6  ## 체스 보드 세로 패턴 개수 - 1\n",
    "objp = np.zeros((wc * hc, 3), np.float32)\n",
    "objp[:, :2] = np.mgrid[0:wc, 0:hc].T.reshape(-1, 2)\n",
    "\n",
    "objpoints = []\n",
    "imgpoints = []\n",
    "\n",
    "file = \"./Input2/15cm.png\"  ## 체스 보드 이미지\n",
    "input_name = \"002.png\"\n",
    "dist_file = \"./Input2/\"+input_name  ## 왜곡된 이미지 (같은 화각으로 찍은 이미지)\n",
    "\n",
    "img = cv2.imread(file)\n",
    "#_img = img\n",
    "_img = cv2.resize(img, dsize=(456,608), interpolation = cv2.INTER_AREA)\n",
    "# cv2.imshow('img', _img)\n",
    "gray = cv2.cvtColor(_img, cv2.COLOR_BGR2GRAY) ## gray scale로 바꾸기\n",
    "# cv2.waitKey(0)\n",
    "\n",
    "ret, corners = cv2.findChessboardCorners(gray, (wc, hc), None)  ## 체스 보드 찾기\n",
    "print(ret) \n",
    "## 만약 ret값이 False라면, 체스 보드 이미지의 패턴 개수를 맞게 했는지 확인하거나 (wc, hc) 체스 보드가 깔끔하게 나온 이미지를 가져와야 한다\n",
    "\n",
    "if ret == True:\n",
    "    objpoints.append(objp)\n",
    "\n",
    "    corners2 = cv2.cornerSubPix(gray, corners, (10, 10), (-1, -1), criteria) ## Canny86 알고리즘으로 도형이 겹치는 코너 점을 찾는다\n",
    "    imgpoints.append(corners2)\n",
    "\n",
    "    ## 찾은 코너 점들을 이용해 체스 보드 이미지에 그려넣는다\n",
    "    img = cv2.drawChessboardCorners(_img, (wc, hc), corners2, ret)\n",
    "    # cv2.imshow('img', img)\n",
    "\n",
    "    ret, mtx, dist, rvecs, tvecs = cv2.calibrateCamera(objpoints, imgpoints, gray.shape[::-1], None, None)  ## 왜곡 펴기\n",
    "    h, w = img.shape[:2]\n",
    "    newcameramtx, roi = cv2.getOptimalNewCameraMatrix(mtx, dist, (w, h), 1)\n",
    "    ## mtx = getOptimalNewCameraMatrix parameter alpha \n",
    "    ## dist = Free scaling parameter \n",
    "    ## 4번째 인자 = between 0 (when all the pixels in the undistorted image are valid) and 1 (when all the source image pixels are retained in the undistorted image)\n",
    "    ## 1에 가까울수록 왜곡을 펼 때 잘라낸 부분들을 더 보여준다\n",
    "    ## 전체를 보고 싶다면 1, 펴진 부분만 보고 싶다면 0에 가깝게 인자 값을 주면 된다\n",
    "    #dst = cv2.undistort(img, mtx, dist) ## getOptimalNewCameraMatrix 함수를 쓰지 않은 이미지\n",
    "    #dst2 = cv2.undistort(img, mtx, dist, None, newcameramtx) ## 함수를 쓴 이미지\n",
    "    #cv2.imshow('num0', img)\n",
    "    #cv2.imshow('num1', dst)\n",
    "    #cv2.imshow('num2', dst2)\n",
    "    #cv2.waitKey(0)\n",
    "    \n",
    "    dst = cv2.undistort(img, mtx, dist)\n",
    "    cv2.imwrite(\"./Output/checkboard.png\", dst)\n",
    "    \n",
    "    dist_img = cv2.imread(dist_file)\n",
    "    dst = cv2.undistort(dist_img, mtx, dist)\n",
    "    cv2.imwrite(\"./Output/\"+input_name, dst)\n",
    "\n",
    "#cv2.destroyAllWindows()"
   ]
  },
  {
   "cell_type": "code",
   "execution_count": 78,
   "id": "fd4f46cd-b63e-44d4-b449-dc6b16bc0dcc",
   "metadata": {},
   "outputs": [
    {
     "name": "stdout",
     "output_type": "stream",
     "text": [
      "./Base3\\Check01.jpg True\n",
      "./Base3\\Check02.jpg True\n",
      "./Base3\\Check03.jpg True\n",
      "./Base3\\Check04.jpg True\n",
      "./Base3\\Check05.jpg True\n",
      "./Base3\\Check06.jpg True\n",
      "./Base3\\Check07.jpg True\n",
      "./Base3\\Check08.jpg True\n",
      "./Base3\\Check09.jpg True\n",
      "./Base3\\Check10.jpg True\n",
      "./Base3\\Check11.jpg True\n",
      "./Base3\\Check12.jpg True\n"
     ]
    }
   ],
   "source": [
    "import numpy as np\n",
    "import glob, cv2\n",
    "\n",
    "# 종료 기준(termination criteria)를 정한다.\n",
    "criteria = (cv2.TERM_CRITERIA_EPS+cv2.TERM_CRITERIA_MAX_ITER, 30 ,0.001)\n",
    "wc = 8  ## 체스 보드 가로 패턴 개수 - 1\n",
    "hc = 6  ## 체스 보드 세로 패턴 개수 - 1\n",
    "# Object Point(3D)를 준비한다. (0,0,0),(1,0,0),(2,0,0)... 처럼\n",
    "objp = np.zeros((wc * hc, 3), np.float32)\n",
    "objp[:, :2] = np.mgrid[0:wc, 0:hc].T.reshape(-1, 2)\n",
    "\n",
    "# 이미지로 부터의 Object point와 Image points를 저장하기 위한 배열\n",
    "objpoints = [] # 실제 세계의 3D 점들 \n",
    "imgpoints = [] # 2D 이미지의 점들\n",
    "\n",
    "# 전체 path를 받기 위해 os말고 glob 사용\n",
    "images = glob.glob('./Base3/*.jpg')\n",
    "\n",
    "for name in images:\n",
    "    img = cv2.imread(name)\n",
    "    gray = cv2.cvtColor(img, cv2.COLOR_BGR2GRAY)\n",
    "\n",
    "    # 체스판의 코너들 찾기\n",
    "    ret, corners = cv2.findChessboardCorners(gray,(wc, hc),None)\n",
    "    print(name, ret)\n",
    "    # 찾았으면, Object points, Image points 추가하기 (이후에 수정한다)\n",
    "    if ret == True:\n",
    "        objpoints.append(objp)\n",
    "\n",
    "        corners2 = cv2.cornerSubPix(gray,corners,(11,11),(-1,-1),criteria)\n",
    "        imgpoints.append(corners2)\n",
    "\n",
    "        # 코너를 그리고 봐보자\n",
    "        img = cv2.drawChessboardCorners(img,(wc,hc),corners2,ret)\n",
    "        #cv2.imshow('img',img)\n",
    "        #cv2.waitKey(2000)\n",
    "cv2.destroyAllWindows()"
   ]
  },
  {
   "cell_type": "code",
   "execution_count": 74,
   "id": "1f1ee5b9-b2a1-49cf-8cbd-fac406fdd5f7",
   "metadata": {},
   "outputs": [],
   "source": [
    "ret, mtx, dist, rvecs, tvecs = cv2.calibrateCamera(objpoints, imgpoints, gray.shape[::-1], None, None)"
   ]
  },
  {
   "cell_type": "code",
   "execution_count": 76,
   "id": "67fc2eb5-2900-4c4a-8bae-99a5138041d2",
   "metadata": {},
   "outputs": [
    {
     "name": "stdout",
     "output_type": "stream",
     "text": [
      "./Output/Silhouette_square2.png is Saved.\n",
      "./Output/Silhouette_square3.png is Saved.\n"
     ]
    }
   ],
   "source": [
    "import os\n",
    "path = \"./Input2/\"\n",
    "file_list = os.listdir(path)\n",
    "Image_List = []\n",
    "for i in range(len(file_list)):\n",
    "    Num = len(file_list[i])\n",
    "    if Num > 4 and file_list[i][-4:Num] == \".png\":\n",
    "        Image_List.append(file_list[i])\n",
    "        \n",
    "for input_image in Image_List:\n",
    "    dist_img = cv2.imread(\"./Input2/\"+input_image)\n",
    "    dst = cv2.undistort(dist_img, mtx, dist)\n",
    "    cv2.imwrite(\"./Output/\"+input_image, dst)\n",
    "    print(\"./Output/\"+input_image+\" is Saved.\")"
   ]
  },
  {
   "cell_type": "code",
   "execution_count": null,
   "id": "8d9a5761-8ad3-44a9-99db-cc7f29c63295",
   "metadata": {},
   "outputs": [],
   "source": []
  }
 ],
 "metadata": {
  "kernelspec": {
   "display_name": "Python 3 (ipykernel)",
   "language": "python",
   "name": "python3"
  },
  "language_info": {
   "codemirror_mode": {
    "name": "ipython",
    "version": 3
   },
   "file_extension": ".py",
   "mimetype": "text/x-python",
   "name": "python",
   "nbconvert_exporter": "python",
   "pygments_lexer": "ipython3",
   "version": "3.12.3"
  }
 },
 "nbformat": 4,
 "nbformat_minor": 5
}
