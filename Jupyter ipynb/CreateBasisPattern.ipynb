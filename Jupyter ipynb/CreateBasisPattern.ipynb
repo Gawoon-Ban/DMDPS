{
 "cells": [
  {
   "cell_type": "code",
   "execution_count": 7,
   "id": "0464c2ac-ca8b-4362-aac7-5aca2b6035cc",
   "metadata": {},
   "outputs": [
    {
     "name": "stdout",
     "output_type": "stream",
     "text": [
      "total 72 basis pattern images are generated.\n"
     ]
    }
   ],
   "source": [
    "# 사용방법 : superpixel = [light_Col, light_Row], sp = superpixel의 한변의 길이 (px) 입력후 실행\n",
    "import os\n",
    "import cv2\n",
    "import numpy as np\n",
    "\n",
    "# S22 display : 1080 x 2340\n",
    "# superpixel : (정사각형) 9 x 16 (120px), 5 x 9 (216px), 3 x 6 (360px), 8 x 16 (135px), 6 x 12 (180px)\n",
    "superpixel = [6,12]\n",
    "height = 2340\n",
    "width = 1080\n",
    "sp = 180\n",
    "padding_top = (height - superpixel[1]*sp)//2\n",
    "os.makedirs(\"Output\", exist_ok=True) # Result Images\n",
    "\n",
    "img = np.full((height, width, 3), (0, 0, 0), dtype=np.uint8)\n",
    "for i in range(superpixel[1]):\n",
    "    for j in range(superpixel[0]):\n",
    "        img[padding_top+sp*i:padding_top+sp*(i+1), sp*j:sp*(j+1)] = [255,255,255]\n",
    "        cv2.imwrite(\"./Output/Pattern\"+str(i*superpixel[0]+j).zfill(3)+\".png\", img)\n",
    "        img[padding_top+sp*i:padding_top+sp*(i+1), sp*j:sp*(j+1)] = [0,0,0]\n",
    "print(f\"total {superpixel[0]*superpixel[1]} basis pattern images are generated.\")"
   ]
  },
  {
   "cell_type": "code",
   "execution_count": null,
   "id": "bb3047c0-67ea-47cd-9424-b72beb3c94b9",
   "metadata": {},
   "outputs": [],
   "source": []
  },
  {
   "cell_type": "code",
   "execution_count": null,
   "id": "9a5097cd-7ff6-47ea-a87f-3395fa668b0f",
   "metadata": {},
   "outputs": [],
   "source": []
  }
 ],
 "metadata": {
  "kernelspec": {
   "display_name": "Python 3 (ipykernel)",
   "language": "python",
   "name": "python3"
  },
  "language_info": {
   "codemirror_mode": {
    "name": "ipython",
    "version": 3
   },
   "file_extension": ".py",
   "mimetype": "text/x-python",
   "name": "python",
   "nbconvert_exporter": "python",
   "pygments_lexer": "ipython3",
   "version": "3.12.3"
  }
 },
 "nbformat": 4,
 "nbformat_minor": 5
}
